{
 "cells": [
  {
   "cell_type": "code",
   "execution_count": 3,
   "id": "22794133",
   "metadata": {},
   "outputs": [],
   "source": [
    "import rclpy\n",
    "from rclpy.node import Node\n",
    "\n",
    "rclpy.init()\n",
    "goal_node = rclpy.create_node('goal_node')"
   ]
  },
  {
   "cell_type": "code",
   "execution_count": 20,
   "id": "a3cd57d6",
   "metadata": {},
   "outputs": [],
   "source": [
    "from geometry_msgs.msg import PoseStamped\n",
    "\n",
    "goal_pose = PoseStamped()\n",
    "goal_pose.header.frame_id = 'map'\n",
    "goal_pose.pose.position.x = 1.5\n",
    "goal_pose.pose.position.y = -1.0\n",
    "goal_pose.pose.orientation.w = 0.707\n",
    "goal_pose.pose.orientation.z = 0.707"
   ]
  },
  {
   "cell_type": "code",
   "execution_count": 21,
   "id": "28f85d03",
   "metadata": {},
   "outputs": [],
   "source": [
    "goal_publisher = goal_node.create_publisher(PoseStamped, '/goal_pose', 10)"
   ]
  },
  {
   "cell_type": "code",
   "execution_count": 22,
   "id": "990e6903",
   "metadata": {},
   "outputs": [],
   "source": [
    "goal_publisher.publish(goal_pose)"
   ]
  },
  {
   "cell_type": "code",
   "execution_count": null,
   "id": "5d97aea2",
   "metadata": {},
   "outputs": [],
   "source": []
  }
 ],
 "metadata": {
  "kernelspec": {
   "display_name": "Python 3",
   "language": "python",
   "name": "python3"
  },
  "language_info": {
   "codemirror_mode": {
    "name": "ipython",
    "version": 3
   },
   "file_extension": ".py",
   "mimetype": "text/x-python",
   "name": "python",
   "nbconvert_exporter": "python",
   "pygments_lexer": "ipython3",
   "version": "3.12.3"
  }
 },
 "nbformat": 4,
 "nbformat_minor": 5
}
